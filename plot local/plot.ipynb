{
 "cells": [
  {
   "cell_type": "code",
   "execution_count": 3,
   "id": "fbf65ce9",
   "metadata": {},
   "outputs": [],
   "source": [
    "import os\n",
    "import pandas as pd\n",
    "import geopandas as gpd\n",
    "import matplotlib.pyplot as plt\n"
   ]
  },
  {
   "cell_type": "code",
   "execution_count": 15,
   "id": "a797350f",
   "metadata": {},
   "outputs": [
    {
     "name": "stdout",
     "output_type": "stream",
     "text": [
      "<class 'pandas.core.frame.DataFrame'>\n",
      "RangeIndex: 3280 entries, 0 to 3279\n",
      "Data columns (total 22 columns):\n",
      " #   Column           Non-Null Count  Dtype                       \n",
      "---  ------           --------------  -----                       \n",
      " 0   country_id       3280 non-null   object                      \n",
      " 1   latitude         3280 non-null   float64                     \n",
      " 2   longitude        3280 non-null   float64                     \n",
      " 3   brightness       3280 non-null   float64                     \n",
      " 4   scan             3280 non-null   float64                     \n",
      " 5   track            3280 non-null   float64                     \n",
      " 6   acq_date         3280 non-null   object                      \n",
      " 7   acq_time         3280 non-null   object                      \n",
      " 8   satellite        3280 non-null   object                      \n",
      " 9   instrument       3280 non-null   object                      \n",
      " 10  confidence       3280 non-null   int64                       \n",
      " 11  version          3280 non-null   object                      \n",
      " 12  bright_t31       3280 non-null   float64                     \n",
      " 13  frp              3280 non-null   float64                     \n",
      " 14  daynight         3280 non-null   object                      \n",
      " 15  acq_datetime     3280 non-null   datetime64[ns]              \n",
      " 16  acq_datetime_th  3280 non-null   datetime64[ns, Asia/Bangkok]\n",
      " 17  acq_year         3280 non-null   category                    \n",
      " 18  acq_month        3280 non-null   category                    \n",
      " 19  acq_day          3280 non-null   category                    \n",
      " 20  acq_hour         3280 non-null   category                    \n",
      " 21  acq_minute       3280 non-null   category                    \n",
      "dtypes: category(5), datetime64[ns, Asia/Bangkok](1), datetime64[ns](1), float64(7), int64(1), object(7)\n",
      "memory usage: 454.1+ KB\n"
     ]
    }
   ],
   "source": [
    "data_firms = pd.read_parquet(r\"C:\\Users\\USER\\Work\\Y3\\DSI321\\DSI324_wildfire\\api local\\firms_outout\", engine=\"pyarrow\")\n",
    "data_firms.info()"
   ]
  },
  {
   "cell_type": "code",
   "execution_count": 18,
   "id": "8e236104",
   "metadata": {},
   "outputs": [
    {
     "name": "stdout",
     "output_type": "stream",
     "text": [
      "<class 'pandas.core.frame.DataFrame'>\n",
      "Index: 2838 entries, 0 to 3277\n",
      "Data columns (total 22 columns):\n",
      " #   Column           Non-Null Count  Dtype                       \n",
      "---  ------           --------------  -----                       \n",
      " 0   country_id       2838 non-null   object                      \n",
      " 1   latitude         2838 non-null   float64                     \n",
      " 2   longitude        2838 non-null   float64                     \n",
      " 3   brightness       2838 non-null   float64                     \n",
      " 4   scan             2838 non-null   float64                     \n",
      " 5   track            2838 non-null   float64                     \n",
      " 6   acq_date         2838 non-null   object                      \n",
      " 7   acq_time         2838 non-null   object                      \n",
      " 8   satellite        2838 non-null   object                      \n",
      " 9   instrument       2838 non-null   object                      \n",
      " 10  confidence       2838 non-null   int64                       \n",
      " 11  version          2838 non-null   object                      \n",
      " 12  bright_t31       2838 non-null   float64                     \n",
      " 13  frp              2838 non-null   float64                     \n",
      " 14  daynight         2838 non-null   object                      \n",
      " 15  acq_datetime     2838 non-null   datetime64[ns]              \n",
      " 16  acq_datetime_th  2838 non-null   datetime64[ns, Asia/Bangkok]\n",
      " 17  acq_year         2838 non-null   category                    \n",
      " 18  acq_month        2838 non-null   category                    \n",
      " 19  acq_day          2838 non-null   category                    \n",
      " 20  acq_hour         2838 non-null   category                    \n",
      " 21  acq_minute       2838 non-null   category                    \n",
      "dtypes: category(5), datetime64[ns, Asia/Bangkok](1), datetime64[ns](1), float64(7), int64(1), object(7)\n",
      "memory usage: 415.3+ KB\n"
     ]
    }
   ],
   "source": [
    "data_firms.drop_duplicates(inplace=True)\n",
    "data_firms.info()"
   ]
  },
  {
   "cell_type": "code",
   "execution_count": null,
   "id": "79bf3792",
   "metadata": {},
   "outputs": [],
   "source": [
    "shape_path =                    -"
   ]
  }
 ],
 "metadata": {
  "kernelspec": {
   "display_name": "Python 3",
   "language": "python",
   "name": "python3"
  },
  "language_info": {
   "codemirror_mode": {
    "name": "ipython",
    "version": 3
   },
   "file_extension": ".py",
   "mimetype": "text/x-python",
   "name": "python",
   "nbconvert_exporter": "python",
   "pygments_lexer": "ipython3",
   "version": "3.13.2"
  }
 },
 "nbformat": 4,
 "nbformat_minor": 5
}
